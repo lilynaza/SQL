{
 "cells": [
  {
   "cell_type": "code",
   "execution_count": 1,
   "metadata": {},
   "outputs": [],
   "source": [
    "import sqlite3"
   ]
  },
  {
   "cell_type": "code",
   "execution_count": 2,
   "metadata": {},
   "outputs": [],
   "source": [
    "con = sqlite3.connect(\"mydatabase.db\")"
   ]
  },
  {
   "cell_type": "code",
   "execution_count": 3,
   "metadata": {},
   "outputs": [],
   "source": [
    "cursor = con.cursor()"
   ]
  },
  {
   "cell_type": "code",
   "execution_count": 4,
   "metadata": {},
   "outputs": [],
   "source": [
    "cursor.execute(\"CREATE TABLE employee (emp_id INT PRIMARY KEY,first_name VACHAR(40),last_name VACHAR(40),birth_day DATE,sex VARCHAR(1),salary INT,super_id INT,branch_id INT)\")\n",
    "con.commit()"
   ]
  },
  {
   "cell_type": "code",
   "execution_count": 5,
   "metadata": {},
   "outputs": [],
   "source": [
    "cursor.execute(\"CREATE TABLE branch(branch_id INT PRIMARY KEY,branch_name VARCHAR(40),mgr_id INT,mgr_start_date DATE)\")\n",
    "#cursor.execute(\"FOREIGN KEY(mgr_id) REFERENCES employee(emp_id) ON DELETE SET NULL\")\n",
    "con.commit()"
   ]
  },
  {
   "cell_type": "code",
   "execution_count": 6,
   "metadata": {},
   "outputs": [],
   "source": [
    "(\"FOREIGN KEY(mgr_id) REFERENCES employee(emp_id) ON DELETE SET NULL\")\n",
    "con.commit()"
   ]
  },
  {
   "cell_type": "code",
   "execution_count": 7,
   "metadata": {},
   "outputs": [],
   "source": [
    "#Adding the branch_id as foreign key\n",
    "(\"ALTER TABLE employee (ADD FOREIGN KEY(branch_id) REFERENCES branch(branch_id) ON DELETE SET NULL\")\n",
    "con.commit()"
   ]
  },
  {
   "cell_type": "code",
   "execution_count": 8,
   "metadata": {},
   "outputs": [],
   "source": [
    "#Adding the super_id as foreign key\n",
    "(\"ALTER TABLE employee (ADD FOREIGN KEY(super_id) REFERENCES employee(emp_id) ON DELETE SET NULL\")\n",
    "con.commit()"
   ]
  },
  {
   "cell_type": "code",
   "execution_count": 9,
   "metadata": {},
   "outputs": [],
   "source": [
    "cursor.execute(\"CREATE TABLE client (client_id INT PRIMARY KEY, client_name VARCHAR(40),branch_id INT)\")\n",
    "con.commit()"
   ]
  },
  {
   "cell_type": "code",
   "execution_count": 10,
   "metadata": {},
   "outputs": [],
   "source": [
    "(\"FOREIGN KEY(branch_id) REFERENCES branch(branch_id) ON DELETE SET NULL\")\n",
    "con.commit()"
   ]
  },
  {
   "cell_type": "code",
   "execution_count": 11,
   "metadata": {},
   "outputs": [],
   "source": [
    "cursor.execute(\"CREATE TABLE branch_supplier(branch_id INT, supplier_name VARCHAR(40),supply_type VARCHAR(40), PRIMARY KEY(branch_id, supplier_name))\")\n",
    "con.commit()"
   ]
  },
  {
   "cell_type": "code",
   "execution_count": 12,
   "metadata": {},
   "outputs": [],
   "source": [
    "(\"FOREIGN KEY(branch_id) REFERENCES branch(branch_id) ON DELETE CASCADE\")\n",
    "con.commit()"
   ]
  },
  {
   "cell_type": "code",
   "execution_count": 13,
   "metadata": {},
   "outputs": [],
   "source": [
    "cursor.execute (\"INSERT INTO employee VALUES(100, 'David', 'Wallace', '1967-11-17', 'M', 250000, NULL, NULL)\")\n",
    "con.commit()"
   ]
  },
  {
   "cell_type": "code",
   "execution_count": 14,
   "metadata": {},
   "outputs": [],
   "source": [
    "cursor.execute (\"INSERT INTO branch VALUES(1, 'Corporate', 100, '2006-02-09') \")\n",
    "con.commit()"
   ]
  },
  {
   "cell_type": "code",
   "execution_count": 15,
   "metadata": {},
   "outputs": [],
   "source": [
    "cursor.execute (\"UPDATE employee SET branch_id = 1 WHERE emp_id = 100\")\n",
    "con.commit()"
   ]
  },
  {
   "cell_type": "code",
   "execution_count": 16,
   "metadata": {},
   "outputs": [],
   "source": [
    "cursor.execute (\"INSERT INTO employee VALUES(102, 'Michael', 'Scott', '1964-03-15', 'M', 75000, 100, NULL)\")\n",
    "\n",
    "cursor.execute (\"INSERT INTO branch VALUES(2, 'Scranton', 102, '1992-04-06')\")\n",
    "\n",
    "con.commit()"
   ]
  },
  {
   "cell_type": "code",
   "execution_count": 17,
   "metadata": {},
   "outputs": [],
   "source": [
    "cursor.execute (\"UPDATE employee SET branch_id = 2 WHERE emp_id = 102\")\n",
    "con.commit()"
   ]
  },
  {
   "cell_type": "code",
   "execution_count": 18,
   "metadata": {},
   "outputs": [],
   "source": [
    "cursor.execute (\"INSERT INTO employee VALUES(103, 'Angela', 'Martin', '1971-06-25', 'F', 63000, 102, 2)\")\n",
    "con.commit()"
   ]
  },
  {
   "cell_type": "code",
   "execution_count": 19,
   "metadata": {},
   "outputs": [],
   "source": [
    "cursor.execute (\"INSERT INTO branch_supplier VALUES(2, 'Hammer Mill', 'Paper')\")\n",
    "cursor.execute (\"INSERT INTO branch_supplier VALUES(2, 'Uni-ball', 'Writing Utensils')\")\n",
    "cursor.execute (\"INSERT INTO branch_supplier VALUES(3, 'Patriot Paper', 'Paper')\")\n",
    "cursor.execute (\"INSERT INTO branch_supplier VALUES(2, 'J.T. Forms & Labels', 'Custom Forms')\")\n",
    "cursor.execute (\"INSERT INTO branch_supplier VALUES(3, 'Uni-ball', 'Writing Utensils')\")\n",
    "cursor.execute (\"INSERT INTO branch_supplier VALUES(3, 'Hammer Mill', 'Paper')\")\n",
    "cursor.execute (\"INSERT INTO branch_supplier VALUES(3, 'Stamford Lables', 'Custom Forms')\")\n",
    "con.commit()\n",
    "\n"
   ]
  },
  {
   "cell_type": "code",
   "execution_count": 28,
   "metadata": {},
   "outputs": [],
   "source": [
    "# CLIENT\n",
    "cursor.execute (\"REPLACE INTO client VALUES(400, 'Dunmore Highschool', 2)\")\n",
    "cursor.execute (\"REPLACE INTO client VALUES(401, 'Lackawana Country', 2)\")\n",
    "cursor.execute (\"REPLACE INTO client VALUES(402, 'FedEx', 3)\")\n",
    "cursor.execute (\"REPLACE INTO client VALUES(403, 'John Daly Law, LLC', 3)\")\n",
    "cursor.execute (\"REPLACE INTO client VALUES(404, 'Scranton Whitepages', 2)\")\n",
    "cursor.execute (\"REPLACE INTO client VALUES(405, 'Times Newspaper', 3)\")\n",
    "cursor.execute (\"REPLACE INTO client VALUES(406, 'FedEx', 2)\")\n",
    "con.commit()"
   ]
  },
  {
   "cell_type": "code",
   "execution_count": 25,
   "metadata": {},
   "outputs": [],
   "source": [
    "# CLIENT\n",
    "cursor.execute (\"INSERT INTO client VALUES(600, 'Dunmore Highschool', 2)\")\n",
    "cursor.execute (\"INSERT INTO client VALUES(601, 'Lackawana Country', 2)\")\n",
    "cursor.execute (\"INSERT INTO client VALUES(602, 'FedEx', 3)\")\n",
    "cursor.execute (\"INSERT INTO client VALUES(603, 'John Daly Law, LLC', 3)\")\n",
    "cursor.execute (\"INSERT INTO client VALUES(604, 'Scranton Whitepages', 2)\")\n",
    "cursor.execute (\"INSERT INTO client VALUES(605, 'Times Newspaper', 3)\")\n",
    "cursor.execute (\"INSERT INTO client VALUES(606, 'FedEx', 2)\")\n",
    "con.commit()"
   ]
  },
  {
   "cell_type": "code",
   "execution_count": 22,
   "metadata": {},
   "outputs": [],
   "source": [
    "cursor.execute (\"CREATE TABLE works_with (emp_id INT, client_id INT, total_sales INT, PRIMARY KEY(emp_id, client_id))\")\n",
    "(\"FOREIGN KEY(emp_id) REFERENCES employee(emp_id) ON DELETE CASCADE\")\n",
    "(\"FOREIGN KEY(client_id) REFERENCES client(client_id) ON DELETE CASCADE\")\n",
    "con.commit()"
   ]
  },
  {
   "cell_type": "code",
   "execution_count": 23,
   "metadata": {},
   "outputs": [],
   "source": [
    "# WORKS_WITH\n",
    "cursor.execute (\"INSERT INTO works_with VALUES(105, 400, 55000)\")\n",
    "cursor.execute (\"INSERT INTO works_with VALUES(102, 401, 267000)\")\n",
    "cursor.execute (\"INSERT INTO works_with VALUES(108, 402, 22500)\")\n",
    "cursor.execute (\"INSERT INTO works_with VALUES(107, 403, 5000)\")\n",
    "cursor.execute (\"INSERT INTO works_with VALUES(108, 403, 12000)\")\n",
    "cursor.execute (\"INSERT INTO works_with VALUES(105, 404, 33000)\")\n",
    "cursor.execute (\"INSERT INTO works_with VALUES(107, 405, 26000)\")\n",
    "cursor.execute (\"INSERT INTO works_with VALUES(102, 406, 15000)\")\n",
    "cursor.execute (\"INSERT INTO works_with VALUES(105, 406, 130000)\")\n",
    "con.commit()"
   ]
  },
  {
   "cell_type": "code",
   "execution_count": 29,
   "metadata": {},
   "outputs": [
    {
     "data": {
      "text/plain": [
       "[(100, 'David', 'Wallace', '1967-11-17', 'M', 250000, None, 1),\n",
       " (102, 'Michael', 'Scott', '1964-03-15', 'M', 75000, 100, 2),\n",
       " (103, 'Angela', 'Martin', '1971-06-25', 'F', 63000, 102, 2)]"
      ]
     },
     "execution_count": 29,
     "metadata": {},
     "output_type": "execute_result"
    }
   ],
   "source": [
    "cursor.execute ('SELECT * FROM employee')\n",
    "rows = cursor.fetchall()\n",
    "rows"
   ]
  },
  {
   "cell_type": "code",
   "execution_count": 30,
   "metadata": {},
   "outputs": [
    {
     "data": {
      "text/plain": [
       "[(600, 'Dunmore Highschool', 2),\n",
       " (601, 'Lackawana Country', 2),\n",
       " (602, 'FedEx', 3),\n",
       " (603, 'John Daly Law, LLC', 3),\n",
       " (604, 'Scranton Whitepages', 2),\n",
       " (605, 'Times Newspaper', 3),\n",
       " (606, 'FedEx', 2),\n",
       " (400, 'Dunmore Highschool', 2),\n",
       " (401, 'Lackawana Country', 2),\n",
       " (402, 'FedEx', 3),\n",
       " (403, 'John Daly Law, LLC', 3),\n",
       " (404, 'Scranton Whitepages', 2),\n",
       " (405, 'Times Newspaper', 3),\n",
       " (406, 'FedEx', 2)]"
      ]
     },
     "execution_count": 30,
     "metadata": {},
     "output_type": "execute_result"
    }
   ],
   "source": [
    "cursor.execute ('SELECT * FROM client')\n",
    "rows = cursor.fetchall()\n",
    "rows"
   ]
  },
  {
   "cell_type": "code",
   "execution_count": 31,
   "metadata": {},
   "outputs": [
    {
     "data": {
      "text/plain": [
       "[(105, 400, 55000),\n",
       " (102, 401, 267000),\n",
       " (108, 402, 22500),\n",
       " (107, 403, 5000),\n",
       " (108, 403, 12000),\n",
       " (105, 404, 33000),\n",
       " (107, 405, 26000),\n",
       " (102, 406, 15000),\n",
       " (105, 406, 130000)]"
      ]
     },
     "execution_count": 31,
     "metadata": {},
     "output_type": "execute_result"
    }
   ],
   "source": [
    "cursor.execute ('SELECT * FROM works_with')\n",
    "rows = cursor.fetchall()\n",
    "rows"
   ]
  },
  {
   "cell_type": "code",
   "execution_count": 32,
   "metadata": {},
   "outputs": [
    {
     "data": {
      "text/plain": [
       "[('M',), ('F',)]"
      ]
     },
     "execution_count": 32,
     "metadata": {},
     "output_type": "execute_result"
    }
   ],
   "source": [
    "cursor.execute ('SELECT DISTINCT sex FROM employee')\n",
    "rows = cursor.fetchall()\n",
    "rows"
   ]
  },
  {
   "cell_type": "code",
   "execution_count": 33,
   "metadata": {},
   "outputs": [
    {
     "data": {
      "text/plain": [
       "[(3,)]"
      ]
     },
     "execution_count": 33,
     "metadata": {},
     "output_type": "execute_result"
    }
   ],
   "source": [
    "cursor.execute (' SELECT COUNT(emp_id) FROM employee')\n",
    "cursor.fetchall()"
   ]
  },
  {
   "cell_type": "code",
   "execution_count": 34,
   "metadata": {},
   "outputs": [
    {
     "data": {
      "text/plain": [
       "[(2,)]"
      ]
     },
     "execution_count": 34,
     "metadata": {},
     "output_type": "execute_result"
    }
   ],
   "source": [
    "cursor.execute (' SELECT COUNT(super_id) FROM employee')\n",
    "cursor.fetchall()\n",
    "\n"
   ]
  },
  {
   "cell_type": "code",
   "execution_count": 35,
   "metadata": {},
   "outputs": [
    {
     "data": {
      "text/plain": [
       "[(1,)]"
      ]
     },
     "execution_count": 35,
     "metadata": {},
     "output_type": "execute_result"
    }
   ],
   "source": [
    "# find the number of female employees born after 1970\n",
    "cursor.execute (\"SELECT COUNT (emp_id) FROM employee WHERE sex = 'F' AND birth_day > '1970-01-01' \")\n",
    "cursor.fetchall()"
   ]
  },
  {
   "cell_type": "code",
   "execution_count": 36,
   "metadata": {},
   "outputs": [
    {
     "data": {
      "text/plain": [
       "[(103, 'Angela', 'Martin')]"
      ]
     },
     "execution_count": 36,
     "metadata": {},
     "output_type": "execute_result"
    }
   ],
   "source": [
    "# Find all employee's id's and names who were born after 1969\n",
    "cursor.execute (\"SELECT emp_id, first_name AS forname, last_name AS surname FROM employee WHERE birth_day >= '1970-01-01' \")\n",
    "cursor.fetchall()"
   ]
  },
  {
   "cell_type": "code",
   "execution_count": 37,
   "metadata": {},
   "outputs": [
    {
     "data": {
      "text/plain": [
       "[(103, 'Angela', 'Martin', '1971-06-25', 'F', 63000, 102, 2)]"
      ]
     },
     "execution_count": 37,
     "metadata": {},
     "output_type": "execute_result"
    }
   ],
   "source": [
    "#Find all female employees at branch 2\n",
    "cursor.execute (\"SELECT * FROM employee WHERE branch_id = 2 AND sex = 'F' \")\n",
    "cursor.fetchall()"
   ]
  },
  {
   "cell_type": "code",
   "execution_count": 38,
   "metadata": {},
   "outputs": [
    {
     "data": {
      "text/plain": [
       "[(100, 'David', 'Wallace', '1967-11-17', 'M', 250000, None, 1),\n",
       " (103, 'Angela', 'Martin', '1971-06-25', 'F', 63000, 102, 2)]"
      ]
     },
     "execution_count": 38,
     "metadata": {},
     "output_type": "execute_result"
    }
   ],
   "source": [
    "#Find all employees who are female & born after 1969 or who make over 80000\n",
    "cursor.execute (\"SELECT * FROM employee WHERE (birth_day >= '1970-01-01' AND sex = 'F') OR salary > 80000\")\n",
    "cursor.fetchall()"
   ]
  },
  {
   "cell_type": "code",
   "execution_count": 39,
   "metadata": {},
   "outputs": [
    {
     "data": {
      "text/plain": [
       "[(103, 'Angela', 'Martin', '1971-06-25', 'F', 63000, 102, 2)]"
      ]
     },
     "execution_count": 39,
     "metadata": {},
     "output_type": "execute_result"
    }
   ],
   "source": [
    "# Find all employees born between 1970 and 1975\n",
    "cursor.execute (\"SELECT * FROM employee WHERE birth_day BETWEEN '1970-01-01' AND '1975-01-01'\")\n",
    "cursor.fetchall()"
   ]
  },
  {
   "cell_type": "code",
   "execution_count": 40,
   "metadata": {},
   "outputs": [
    {
     "data": {
      "text/plain": [
       "[(100, 'David', 'Wallace', '1967-11-17', 'M', 250000, None, 1),\n",
       " (102, 'Michael', 'Scott', '1964-03-15', 'M', 75000, 100, 2)]"
      ]
     },
     "execution_count": 40,
     "metadata": {},
     "output_type": "execute_result"
    }
   ],
   "source": [
    "#Find all employees named Jim, Michael, Johnny or David\n",
    "cursor.execute (\"SELECT * FROM employee WHERE first_name IN ( 'Michael', 'David')\")\n",
    "cursor.fetchall()"
   ]
  },
  {
   "cell_type": "code",
   "execution_count": 41,
   "metadata": {},
   "outputs": [
    {
     "data": {
      "text/plain": [
       "(129333.33333333333,)"
      ]
     },
     "execution_count": 41,
     "metadata": {},
     "output_type": "execute_result"
    }
   ],
   "source": [
    "#find the avg salary of all employee\n",
    "cursor.execute (\" SELECT AVG(salary) FROM employee\")\n",
    "cursor.fetchone()"
   ]
  },
  {
   "cell_type": "code",
   "execution_count": 42,
   "metadata": {},
   "outputs": [
    {
     "data": {
      "text/plain": [
       "(63000.0,)"
      ]
     },
     "execution_count": 42,
     "metadata": {},
     "output_type": "execute_result"
    }
   ],
   "source": [
    "#find the avg salary where employee is female\n",
    "cursor.execute (\"SELECT AVG(salary) FROM employee WHERE sex = 'F' \")\n",
    "cursor.fetchone()"
   ]
  },
  {
   "cell_type": "code",
   "execution_count": 43,
   "metadata": {},
   "outputs": [
    {
     "data": {
      "text/plain": [
       "(388000,)"
      ]
     },
     "execution_count": 43,
     "metadata": {},
     "output_type": "execute_result"
    }
   ],
   "source": [
    "#Find the sum of all employee's salaries\n",
    "cursor.execute (\"SELECT SUM(salary) FROM employee\")\n",
    "cursor.fetchone()"
   ]
  },
  {
   "cell_type": "code",
   "execution_count": 44,
   "metadata": {},
   "outputs": [
    {
     "data": {
      "text/plain": [
       "[(1, 'F'), (2, 'M')]"
      ]
     },
     "execution_count": 44,
     "metadata": {},
     "output_type": "execute_result"
    }
   ],
   "source": [
    "#Find out how many males and females there are\n",
    "cursor.execute (\"SELECT COUNT(sex), sex FROM employee GROUP BY sex\")\n",
    "cursor.fetchall()"
   ]
  },
  {
   "cell_type": "code",
   "execution_count": 45,
   "metadata": {},
   "outputs": [
    {
     "data": {
      "text/plain": [
       "[(282000, 102), (218000, 105), (31000, 107), (34500, 108)]"
      ]
     },
     "execution_count": 45,
     "metadata": {},
     "output_type": "execute_result"
    }
   ],
   "source": [
    "#Find the total sales of each salesman\n",
    "cursor.execute (\"SELECT SUM(total_sales) AS sales, emp_id FROM works_with GROUP BY emp_id\")\n",
    "cursor.fetchall()"
   ]
  },
  {
   "cell_type": "code",
   "execution_count": 46,
   "metadata": {},
   "outputs": [
    {
     "data": {
      "text/plain": [
       "[(55000, 105),\n",
       " (267000, 102),\n",
       " (22500, 108),\n",
       " (17000, 107),\n",
       " (33000, 105),\n",
       " (26000, 107),\n",
       " (145000, 102)]"
      ]
     },
     "execution_count": 46,
     "metadata": {},
     "output_type": "execute_result"
    }
   ],
   "source": [
    "#To find out how much each client spent on the company\n",
    "cursor.execute (\"SELECT SUM(total_sales), emp_id FROM works_with GROUP BY client_id\")\n",
    "cursor.fetchall()"
   ]
  },
  {
   "cell_type": "code",
   "execution_count": 47,
   "metadata": {},
   "outputs": [
    {
     "data": {
      "text/plain": [
       "[(603, 'John Daly Law, LLC', 3), (403, 'John Daly Law, LLC', 3)]"
      ]
     },
     "execution_count": 47,
     "metadata": {},
     "output_type": "execute_result"
    }
   ],
   "source": [
    " # the % sign in query rep any number of character\n",
    "#Find any client's who are in LLC\n",
    "cursor.execute (\"SELECT * FROM client WHERE client_name LIKE '%LLC' \")\n",
    "cursor.fetchall()"
   ]
  }
 ],
 "metadata": {
  "kernelspec": {
   "display_name": "Python 3",
   "language": "python",
   "name": "python3"
  },
  "language_info": {
   "codemirror_mode": {
    "name": "ipython",
    "version": 3
   },
   "file_extension": ".py",
   "mimetype": "text/x-python",
   "name": "python",
   "nbconvert_exporter": "python",
   "pygments_lexer": "ipython3",
   "version": "3.8.5"
  }
 },
 "nbformat": 4,
 "nbformat_minor": 4
}
